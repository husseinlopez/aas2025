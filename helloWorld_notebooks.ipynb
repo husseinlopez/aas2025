{
 "cells": [
  {
   "cell_type": "markdown",
   "id": "dd39252d-1257-4fc7-9097-5d9a5ce1b51c",
   "metadata": {},
   "source": [
    "# Introducción a Jupyter Notebooks y Python\n",
    " \n",
    "## ¿Qué es un Jupyter Notebook?\n",
    " \n",
    "Un Jupyter Notebook es un documento interactivo que combina código, texto, imágenes y resultados en un solo lugar. Es ideal para:\n",
    "- Aprender a programar\n",
    "- Realizar análisis de datos\n",
    "- Crear tutoriales y documentación\n",
    "- Investigación científica\n",
    " \n",
    "## Partes básicas de un Notebook\n",
    " \n",
    "### 1. Celdas de código\n",
    "Donde escribimos y ejecutamos código Python\n",
    " \n",
    "### 2. Celdas de texto (Markdown)\n",
    "Donde explicamos lo que estamos haciendo con texto formateado\n",
    " \n",
    "### 3. Salidas de código\n",
    "Resultados que aparecen debajo de las celdas de código"
   ]
  },
  {
   "cell_type": "markdown",
   "id": "8a7101d2-d766-4fef-9f1b-a963a7813298",
   "metadata": {},
   "source": [
    "# Conceptos básicos de Python\n",
    " \n",
    "## Variables y tipos de datos"
   ]
  },
  {
   "cell_type": "code",
   "execution_count": 1,
   "id": "4d8a5316-5b31-4658-9a23-8e6db5338bc3",
   "metadata": {},
   "outputs": [
    {
     "name": "stdout",
     "output_type": "stream",
     "text": [
      "Edad: 25\n",
      "Estudiantes: 30\n",
      "Promedio: 8.5\n",
      "Temperatura: 36.7\n",
      "Nombre: María\n",
      "Universidad: UNAM\n",
      "Es estudiante: True\n",
      "Tiene beca: False\n",
      "Calificaciones: [9, 8, 10, 7]\n",
      "Nombres: ['Ana', 'Carlos', 'Luisa']\n"
     ]
    }
   ],
   "source": [
    "# Enteros (números sin decimales)\n",
    "edad = 25\n",
    "estudiantes = 30\n",
    "print(\"Edad:\", edad)\n",
    "print(\"Estudiantes:\", estudiantes)\n",
    "\n",
    "# Flotantes (números con decimales)\n",
    "promedio = 8.5\n",
    "temperatura = 36.7\n",
    "print(\"Promedio:\", promedio)\n",
    "print(\"Temperatura:\", temperatura)\n",
    "\n",
    "# Texto (strings)\n",
    "nombre = \"María\"\n",
    "universidad = 'UNAM'\n",
    "print(\"Nombre:\", nombre)\n",
    "print(\"Universidad:\", universidad)\n",
    "\n",
    "# Booleanos (verdadero/falso)\n",
    "es_estudiante = True\n",
    "tiene_beca = False\n",
    "print(\"Es estudiante:\", es_estudiante)\n",
    "print(\"Tiene beca:\", tiene_beca)\n",
    "\n",
    "# Listas (colecciones ordenadas)\n",
    "calificaciones = [9, 8, 10, 7]\n",
    "nombres = [\"Ana\", \"Carlos\", \"Luisa\"]\n",
    "print(\"Calificaciones:\", calificaciones)\n",
    "print(\"Nombres:\", nombres)"
   ]
  },
  {
   "cell_type": "markdown",
   "id": "bed98a85-7008-41b1-8263-68a4f6acea1d",
   "metadata": {},
   "source": [
    "## Operaciones básicas"
   ]
  },
  {
   "cell_type": "code",
   "execution_count": 2,
   "id": "b669acb1-d766-4a1a-ab3a-9f113e3d53dc",
   "metadata": {},
   "outputs": [
    {
     "name": "stdout",
     "output_type": "stream",
     "text": [
      "5 + 3 = 8\n",
      "10 - 4 = 6\n",
      "6 * 7 = 42\n",
      "15 / 3 = 5.0\n",
      "2 ** 3 = 8\n",
      "Nombre completo: Juan Pérez\n",
      "Repetir 'Hola': HolaHolaHola\n"
     ]
    }
   ],
   "source": [
    "# Operaciones matemáticas\n",
    "suma = 5 + 3\n",
    "resta = 10 - 4\n",
    "multiplicacion = 6 * 7\n",
    "division = 15 / 3\n",
    "potencia = 2 ** 3\n",
    "\n",
    "print(\"5 + 3 =\", suma)\n",
    "print(\"10 - 4 =\", resta)\n",
    "print(\"6 * 7 =\", multiplicacion)\n",
    "print(\"15 / 3 =\", division)\n",
    "print(\"2 ** 3 =\", potencia)\n",
    "\n",
    "# Operaciones con texto\n",
    "nombre_completo = \"Juan\" + \" \" + \"Pérez\"\n",
    "repetir = \"Hola\" * 3\n",
    "\n",
    "print(\"Nombre completo:\", nombre_completo)\n",
    "print(\"Repetir 'Hola':\", repetir)"
   ]
  },
  {
   "cell_type": "markdown",
   "id": "0f5877e6-88e5-4074-bdbc-139eb006beb1",
   "metadata": {},
   "source": [
    "# Ejemplo práctico: Análisis de calificaciones"
   ]
  },
  {
   "cell_type": "code",
   "execution_count": 3,
   "id": "e088c338-f1aa-4d4e-8498-3dc00c735889",
   "metadata": {},
   "outputs": [
    {
     "name": "stdout",
     "output_type": "stream",
     "text": [
      "Calificaciones: [8, 9, 7, 10, 6, 8, 9, 10, 7, 8]\n",
      "El promedio es: 8.20\n",
      "La calificación más alta es: 10\n",
      "La calificación más baja es: 6\n",
      "Estudiantes aprobados: 10/10\n"
     ]
    }
   ],
   "source": [
    "# Crear una lista de calificaciones\n",
    "calificaciones = [8, 9, 7, 10, 6, 8, 9, 10, 7, 8]\n",
    "print(\"Calificaciones:\", calificaciones)\n",
    "\n",
    "# Calcular el promedio\n",
    "promedio = sum(calificaciones) / len(calificaciones)\n",
    "print(f\"El promedio es: {promedio:.2f}\")\n",
    "\n",
    "# Encontrar la calificación más alta\n",
    "maxima = max(calificaciones)\n",
    "print(f\"La calificación más alta es: {maxima}\")\n",
    "\n",
    "# Encontrar la calificación más baja\n",
    "minima = min(calificaciones)\n",
    "print(f\"La calificación más baja es: {minima}\")\n",
    "\n",
    "# Contar cuántos estudiantes aprobaron (>= 6)\n",
    "aprobados = sum(1 for calif in calificaciones if calif >= 6)\n",
    "print(f\"Estudiantes aprobados: {aprobados}/{len(calificaciones)}\")"
   ]
  },
  {
   "cell_type": "markdown",
   "id": "20fc57b7-4636-4c48-bc91-f143f71de949",
   "metadata": {},
   "source": [
    "# Visualización básica de datos"
   ]
  },
  {
   "cell_type": "code",
   "execution_count": 4,
   "id": "784b87fd-a2e6-480b-9006-67bc4511844b",
   "metadata": {},
   "outputs": [
    {
     "data": {
      "image/png": "[encoded data removed]",
      "text/plain": [
       "<Figure size 1000x500 with 1 Axes>"
      ]
     },
     "metadata": {},
     "output_type": "display_data"
    }
   ],
   "source": [
    "import matplotlib.pyplot as plt\n",
    "\n",
    "# Datos de ejemplo\n",
    "materias = ['Matemáticas', 'Historia', 'Biología', 'Literatura', 'Química']\n",
    "calificaciones = [8, 7, 9, 6, 8]\n",
    "\n",
    "# Crear gráfico de barras\n",
    "plt.figure(figsize=(10, 5))\n",
    "plt.bar(materias, calificaciones, color=['blue', 'green', 'red', 'purple', 'orange'])\n",
    "plt.title('Calificaciones por Materia')\n",
    "plt.xlabel('Materias')\n",
    "plt.ylabel('Calificación')\n",
    "plt.ylim(0, 10)  # Rango del eje Y\n",
    "plt.grid(axis='y', linestyle='--', alpha=0.7)\n",
    "\n",
    "# Mostrar el gráfico\n",
    "plt.show()"
   ]
  },
  {
   "cell_type": "markdown",
   "id": "a58d8202-c43f-4495-83a4-b0cf1cfacf84",
   "metadata": {},
   "source": [
    "# Ejercicio práctico"
   ]
  },
  {
   "cell_type": "code",
   "execution_count": 5,
   "id": "5236ee6c-b48a-4dcb-a556-5ea9591322cb",
   "metadata": {},
   "outputs": [
    {
     "name": "stdout",
     "output_type": "stream",
     "text": [
      "Calificaciones del curso: [7, 8, 9, 5, 6, 8, 10, 7, 6, 9, 8, 7, 10, 6, 8]\n",
      "\n",
      "Resultados:\n",
      "Promedio del curso: 7.60\n",
      "Calificación máxima: 10\n",
      "Calificación mínima: 5\n",
      "Estudiantes con 8 o más: 8\n"
     ]
    }
   ],
   "source": [
    "# Ejercicio: Calcular estadísticas de un curso\n",
    "calificaciones_curso = [7, 8, 9, 5, 6, 8, 10, 7, 6, 9, 8, 7, 10, 6, 8]\n",
    "print(\"Calificaciones del curso:\", calificaciones_curso)\n",
    "\n",
    "# 1. Calcula el promedio\n",
    "promedio = sum(calificaciones_curso) / len(calificaciones_curso)\n",
    "\n",
    "# 2. Encuentra la calificación máxima y mínima\n",
    "maxima = max(calificaciones_curso)\n",
    "minima = min(calificaciones_curso)\n",
    "\n",
    "# 3. Cuenta cuántos estudiantes tienen calificación >= 8\n",
    "excelentes = sum(1 for calif in calificaciones_curso if calif >= 8)\n",
    "\n",
    "print(f\"\\nResultados:\")\n",
    "print(f\"Promedio del curso: {promedio:.2f}\")\n",
    "print(f\"Calificación máxima: {maxima}\")\n",
    "print(f\"Calificación mínima: {minima}\")\n",
    "print(f\"Estudiantes con 8 o más: {excelentes}\")"
   ]
  },
  {
   "cell_type": "markdown",
   "id": "a4e008cf-af6f-4230-9176-bc0b20a0b383",
   "metadata": {},
   "source": [
    "# Consejos para usar Jupyter Notebooks\n",
    "\n",
    "1. **Ejecuta celdas** con `Shift + Enter`\n",
    "2. **Añade celdas** con el botón `+` \n",
    "3. **Escribe explicaciones** en celdas de texto\n",
    "4. **Guarda frecuentemente** tu trabajo\n",
    "5. **Experimenta** cambiando el código y viendo qué pasa\n",
    " \n",
    "\n",
    "Los notebooks son perfectos para:\n",
    "- Realizar tareas y proyectos\n",
    "- Analizar datos de investigaciones\n",
    "- Practicar programación de manera interactiva\n",
    "- Crear reportes con código y resultados integrados\n",
    " \n",
    "---\n",
    "\n",
    "## Para guardar este notebook:\n",
    " \n",
    "1. Haz clic en **File** → **Save** \n",
    "2. Elige un nombre descriptivo como `introduccion_python.ipynb`\n",
    "3. ¡Listo! Puedes abrirlo después para seguir practicando\n",
    "\n",
    "# Celda final para demostrar que puedes seguir agregando código\n",
    "print(\"¡Has completado la introducción a Jupyter Notebooks y Python!\")\n",
    "print(\"Sigue practicando con más ejercicios.\")"
   ]
  }
 ],
 "metadata": {
  "kernelspec": {
   "display_name": "Python 3 (ipykernel)",
   "language": "python",
   "name": "python3"
  },
  "language_info": {
   "codemirror_mode": {
    "name": "ipython",
    "version": 3
   },
   "file_extension": ".py",
   "mimetype": "text/x-python",
   "name": "python",
   "nbconvert_exporter": "python",
   "pygments_lexer": "ipython3",
   "version": "3.9.5"
  }
 },
 "nbformat": 4,
 "nbformat_minor": 5
}
